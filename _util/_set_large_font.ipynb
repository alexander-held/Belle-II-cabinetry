{
 "cells": [
  {
   "cell_type": "markdown",
   "id": "3dc18437-cd75-423c-b051-b817ccf00349",
   "metadata": {},
   "source": [
    "Increase font size for presenting. The method below is thanks to Jim Pivarski, as presented in https://indico.cern.ch/event/1044648/."
   ]
  },
  {
   "cell_type": "code",
   "execution_count": null,
   "id": "c59727e7",
   "metadata": {},
   "outputs": [],
   "source": [
    "import IPython.core.display\n",
    "\n",
    "IPython.core.display.HTML(\"\"\"\n",
    "<style>\n",
    "  /* resize the input editor and output area */\n",
    "  div.jp-Editor div { font-size: 18px; }\n",
    "  div.jp-OutputArea-output pre { font-size: 16px; }\n",
    "\n",
    "  /* resize the markdown output */\n",
    "  div.jp-MarkdownOutput { font-size: 18px; }\n",
    "</style>\n",
    "\"\"\")"
   ]
  }
 ],
 "metadata": {
  "kernelspec": {
   "display_name": "pyhf",
   "language": "python",
   "name": "pyhf"
  },
  "language_info": {
   "codemirror_mode": {
    "name": "ipython",
    "version": 3
   },
   "file_extension": ".py",
   "mimetype": "text/x-python",
   "name": "python",
   "nbconvert_exporter": "python",
   "pygments_lexer": "ipython3",
   "version": "3.8.10"
  }
 },
 "nbformat": 4,
 "nbformat_minor": 5
}
